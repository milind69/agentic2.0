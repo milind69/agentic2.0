{
 "cells": [
  {
   "cell_type": "markdown",
   "id": "c5915e6d",
   "metadata": {},
   "source": [
    "#### Create a Langgraph workflow to improve the LLM provided answer\n",
    "\n",
    "It is know issue that some time Models can hallucinate due to not having a correct information. The objetctive here to improve output of LLM Model by providing a reference data for model to improve the answer \n",
    "We will implement langgraph based workflow which will compare the output of llm with reference output and send it back to a step to improve the output we will loop the improvement either validation logic says no \n",
    "improvement needed or 4 attemps were made to improve the answer. We will also use the workflow for demonstrating traditional RAG\n",
    "\n",
    "The Workflow is a Supervisor node will decide if need to send the input to RAG or LLM based on contect of the query. If it RAG then the workflow will stop after fetching the data from RAG. ( We could have done more here)\n",
    "If the user question is not RAG then the question will be send to LLM and Tavily, we will then use Tavily response as reference data to improve LLM Query "
   ]
  },
  {
   "cell_type": "code",
   "execution_count": 429,
   "id": "35ef0430",
   "metadata": {},
   "outputs": [],
   "source": [
    "from dotenv import load_dotenv\n",
    "import os\n",
    "import json\n",
    "from pprint import pprint, pp\n",
    "from langchain_openai import OpenAIEmbeddings\n",
    "from langchain_text_splitters   import RecursiveCharacterTextSplitter\n",
    "from langchain_huggingface.embeddings import  HuggingFaceEmbeddings\n",
    "from langchain_google_genai.embeddings import GoogleGenerativeAIEmbeddings\n",
    "\n",
    "from langchain_community.document_loaders import PyPDFLoader,TextLoader\n",
    "from typing import IO, BinaryIO\n",
    "from langchain_openai import ChatOpenAI\n",
    "from langchain.chains.question_answering import load_qa_chain\n",
    "from uuid import uuid4\n",
    "from langchain_core.runnables import RunnablePassthrough\n",
    "from langchain_core.output_parsers import StrOutputParser, JsonOutputParser\n",
    "from typing import Literal, Optional\n",
    "\n",
    "# for Chroma \n",
    "import chromadb\n",
    "from langchain_chroma import Chroma\n",
    "# for FAISS\n",
    "import faiss\n",
    "from langchain_community.vectorstores import FAISS\n",
    "from langchain_community.docstore.in_memory import InMemoryDocstore\n",
    "\n",
    "##debugging\n",
    "from langchain.globals import set_debug\n",
    "### Tavilty \n",
    "from langchain_community.tools import TavilySearchResults\n",
    "\n",
    "##\n",
    "from langchain_core.messages import HumanMessage, AIMessage\n",
    "from langchain.prompts import PromptTemplate\n",
    "from langgraph.graph import Graph,START,END,StateGraph\n",
    "from IPython.display import Image,display\n",
    "from langchain_google_genai import ChatGoogleGenerativeAI\n",
    "from langchain_community.document_loaders import TextLoader,DirectoryLoader\n",
    "from langchain_community.vectorstores import Chroma\n",
    "from langchain.text_splitter import RecursiveCharacterTextSplitter\n",
    "from pydantic import BaseModel, Field\n",
    "from langchain.output_parsers import PydanticOutputParser\n",
    "from typing import TypedDict, Annotated, Sequence\n",
    "import operator\n",
    "from langchain_core.messages import BaseMessage"
   ]
  },
  {
   "cell_type": "code",
   "execution_count": 430,
   "id": "401554b4",
   "metadata": {},
   "outputs": [],
   "source": [
    "%config IPCompleter.greedy=True"
   ]
  },
  {
   "cell_type": "markdown",
   "id": "d5a83297",
   "metadata": {},
   "source": [
    "### Load Env and create instanace of embedding and model\n",
    "We have decided to use gemini-2-0-flash model for the experiment and text-embedding-3-small for embeding\n",
    "we will use ChromaDB as vector Database "
   ]
  },
  {
   "cell_type": "code",
   "execution_count": 431,
   "id": "58ca8368",
   "metadata": {},
   "outputs": [],
   "source": [
    "load_dotenv(\"../../../../../tokens/token_env\")\n",
    "os.environ[\"OPENAI_API_KEY\"] = os.getenv(\"OPENAI_API_KEY\")\n",
    "os.environ[\"GEMINI_API_KEY\"] = os.getenv(\"GEMINI_API_KEY\")\n",
    "os.environ[\"TAVILY_API_KEY\"] = os.getenv(\"TAVILY_API_KEY\")\n",
    "os.environ[\"GOOGLE_API_KEY\"]  = os.getenv(\"GEMINI_API_KEY\")"
   ]
  },
  {
   "cell_type": "code",
   "execution_count": 432,
   "id": "7fc6369c",
   "metadata": {},
   "outputs": [],
   "source": [
    "embeddings = OpenAIEmbeddings(model=\"text-embedding-3-small\")\n",
    "model = ChatGoogleGenerativeAI(model= \"gemini-2.0-flash\", temperature=0.1)"
   ]
  },
  {
   "cell_type": "markdown",
   "id": "1d723484",
   "metadata": {},
   "source": [
    "#### Create Vector Database and upload a document in vectorDB\n",
    "In this step We will create a Vector Database using ChromaDB , we will upload a given document into Vector DB. We will use documentloader , textsplitter functions for chunking"
   ]
  },
  {
   "cell_type": "code",
   "execution_count": 433,
   "id": "c618357b",
   "metadata": {},
   "outputs": [],
   "source": [
    "loader = DirectoryLoader(path=\"./data\",glob=\"**/*.txt\", loader_cls=TextLoader)\n",
    "docs = loader.load()"
   ]
  },
  {
   "cell_type": "code",
   "execution_count": 434,
   "id": "0f369e19",
   "metadata": {},
   "outputs": [],
   "source": [
    "TextSplitter = RecursiveCharacterTextSplitter(chunk_size=200, chunk_overlap=10)\n",
    "pages = TextSplitter.split_documents(docs)"
   ]
  },
  {
   "cell_type": "code",
   "execution_count": 435,
   "id": "5598a77d",
   "metadata": {},
   "outputs": [],
   "source": [
    "doc_string=[page.page_content for page in pages]"
   ]
  },
  {
   "cell_type": "markdown",
   "id": "41f47711",
   "metadata": {},
   "source": [
    "Create vector Database from chunked document, make the database persistent "
   ]
  },
  {
   "cell_type": "code",
   "execution_count": 436,
   "id": "5955f324",
   "metadata": {},
   "outputs": [],
   "source": [
    "vectordb = Chroma.from_texts(\n",
    "          collection_name=\"usa_economy_collection\",\n",
    "          embedding= embeddings,\n",
    "          texts=doc_string,\n",
    "          persist_directory=(\"chromadb/usa.db\")\n",
    "     )"
   ]
  },
  {
   "cell_type": "code",
   "execution_count": 437,
   "id": "d36c3a2c",
   "metadata": {},
   "outputs": [],
   "source": [
    "retriever = vectordb.as_retriever(search_kwargs={'k':3 })"
   ]
  },
  {
   "cell_type": "markdown",
   "id": "217045af",
   "metadata": {},
   "source": [
    "#### Workflow creation , generation \n",
    "In this step we will create a State based langgraph, State based langgraph allows us to pass data from one tasks to another tasks. We will also defing the output parser format using JSON format based on Pydantic class \n",
    "\n",
    "**AgentState** : is a state we will use for transfering the data in the workflow \n",
    "\n",
    "**TopicSelectionParser** : is a parser class based on pydantic user in Supervisor node to decide what route 'LLM' or 'RAG' we will take \n",
    "\n",
    "**function** : we will also define various node function for workflow\n",
    "    "
   ]
  },
  {
   "cell_type": "code",
   "execution_count": 438,
   "id": "f2568b5d",
   "metadata": {},
   "outputs": [],
   "source": [
    "\n",
    "class AgentState(TypedDict, total=False):\n",
    "    messages: Annotated[Sequence[BaseMessage], operator.add]\n",
    "    rag_response: Annotated[Optional[Sequence[BaseMessage]], operator.add]\n",
    "    llm_response: Annotated[Optional[Sequence[BaseMessage]], operator.add]\n",
    "    tavily_response: Annotated[Optional[Sequence[BaseMessage]], operator.add]\n",
    "    validation_response: Annotated[Optional[Sequence[BaseMessage]], operator.add]\n",
    "    improved_response: Annotated[Optional[Sequence[BaseMessage]], operator.add]\n",
    "    tavily_score: Annotated[Optional[float], operator.add]\n",
    "    current_step: Optional[str]  # Track which node/step we're in\n",
    "    user_intent: Optional[str]   # Classified user intent\n",
    "    context: Optional[dict]      # Additional context data\n",
    "    error_state: Optional[str]   # Error handling\n",
    "    max_iteration: Annotated[Optional[int], operator.add] # Prevent infinite loops\n",
    "    current_iteration: Annotated[Optional[int],  operator.add]  # Prevent infinite loops\n",
    "    search_done:  Annotated[Optional[bool],  operator.add] #  if search done\n",
    "    need_improvement:  Annotated[Optional[bool],  operator.add]\n",
    "    "
   ]
  },
  {
   "cell_type": "code",
   "execution_count": 439,
   "id": "fcb6c194",
   "metadata": {},
   "outputs": [],
   "source": [
    "class TopicSelectionParser(BaseModel):\n",
    "    Topic: str = Field(description=\"Selected Topic\")\n",
    "    Reasoning: str = Field(description=\"Reasoning behind topic selection\")\n",
    "parser = PydanticOutputParser(pydantic_object=TopicSelectionParser)"
   ]
  },
  {
   "cell_type": "code",
   "execution_count": 440,
   "id": "de8220f4",
   "metadata": {},
   "outputs": [],
   "source": [
    "def function_supervisor(state: AgentState):\n",
    "    \"\"\"\n",
    "    This is a supervisor node fuction will classify user query for RAG or not LLM\n",
    "\n",
    "    Args:\n",
    "        User Question\n",
    "\n",
    "    Returns:\n",
    "        State class \n",
    "    \"\"\"\n",
    "    question = state[\"messages\"][-1]     #take the recent message this is you question \n",
    "    #print(question)\n",
    "    template=\"\"\"\n",
    "        Your task is to classify given user query into one of the following categories [\"USA\",\"Not Related\"]\n",
    "        only respond with the category name and nothing else\n",
    "        user_query: {question}\n",
    "        {format_instructions}\n",
    "        \"\"\"\n",
    "    prompt = PromptTemplate(\n",
    "        template=template,\n",
    "        input_variables=[\"question\"],\n",
    "        partial_variables={\"format_instructions\": parser.get_format_instructions()}\n",
    "    )\n",
    "    chain = prompt | model | parser\n",
    "    response = chain.invoke({\"question\": question})    # invoke dictional pass \n",
    "    return {\"user_intent\": [response.Topic],\n",
    "            \"current_step\": \"Classification_complete\",\n",
    "            \"max_iteration\": 4,\n",
    "            \"current_iteration\":0 }  #return AgentState format"
   ]
  },
  {
   "cell_type": "code",
   "execution_count": 441,
   "id": "7a6119df",
   "metadata": {},
   "outputs": [],
   "source": [
    "def router(state: AgentState) -> Literal[\"RAG Call\",\"LLM Call\"]:\n",
    "    \"\"\"\n",
    "    This is a router node decide to invoke RAG flow or LLM flow \n",
    "    The output will be used by conditional_edge \n",
    "\n",
    "    Args:\n",
    "        State Input fron Supervisor \n",
    "\n",
    "    Returns:\n",
    "        Literal to decide RAG Call or LLM call  \n",
    "    \"\"\"\n",
    "    print('<- Router ->')\n",
    "    last_message = state['messages'][-1]\n",
    "    if \"usa\" in last_message.lower():\n",
    "        return \"RAG Call\"\n",
    "    else:\n",
    "        return \"LLM Call\""
   ]
  },
  {
   "cell_type": "code",
   "execution_count": 442,
   "id": "bc6446be",
   "metadata": {},
   "outputs": [],
   "source": [
    "def format_docs(docs):\n",
    "    return \"\\n\\n\".join(doc.page_content for doc in docs)"
   ]
  },
  {
   "cell_type": "code",
   "execution_count": 443,
   "id": "e5e94989",
   "metadata": {},
   "outputs": [],
   "source": [
    "def function_rag(state: AgentState):\n",
    "    \"\"\"\n",
    "    This is a RAG function\n",
    "\n",
    "\n",
    "    Args:\n",
    "        State Input fron Supervisor \n",
    "\n",
    "    Returns:\n",
    "        State \n",
    "    \"\"\"\n",
    "    print('<- RAG Call ->')\n",
    "    question  = state['messages'][-1]\n",
    "    prompt = PromptTemplate(\n",
    "        template= \"\"\"You are an assistance for question and answering tasks, use the retrived context to answer user question\n",
    "        if you don't know answer say i don't know the answer, use only 3 lines in your reply , make the reply context aware and consize\n",
    "         context: {context}\n",
    "         question: {question} \"\"\",\n",
    "        input_variables=['context', 'question']\n",
    "    )\n",
    "    rag_chain = (\n",
    "        {\"context\": retriever| format_docs, \"question\": RunnablePassthrough()}\n",
    "        | prompt\n",
    "        | model\n",
    "        | StrOutputParser()\n",
    "    )\n",
    "    response = rag_chain.invoke(question)\n",
    "    ai_response = AIMessage(content=response)\n",
    "    return {\n",
    "        \"rag_response\": [response],\n",
    "        \"messages\": [response],\n",
    "        \"current_step\": \"Rag_complete\"\n",
    "    }"
   ]
  },
  {
   "cell_type": "code",
   "execution_count": 444,
   "id": "af6acf07",
   "metadata": {},
   "outputs": [],
   "source": [
    "def function_llm(state: AgentState):\n",
    "    \"\"\"\n",
    "    This is a LLM function\n",
    "\n",
    "\n",
    "    Args:\n",
    "        State Input fron Supervisor \n",
    "\n",
    "    Returns:\n",
    "        State with LLM output \n",
    "    \"\"\"\n",
    "    print(\"<-- LLM CALL -->\")\n",
    "    question = state[\"messages\"][-1]\n",
    "    prompt = PromptTemplate(\n",
    "        template= \"\"\"You are a AI researcher answering user questions?.\n",
    "        If you can not very or outside of you knowledge reply \"No information found\"\n",
    "        question: {question}\n",
    "          \"\"\",\n",
    "        input_variables=['question']\n",
    "    )\n",
    "    complete_prompt =prompt.format(question= question)\n",
    "    llm_chain = model|StrOutputParser()\n",
    "    response = llm_chain.invoke(complete_prompt)             # dictionry\n",
    "    return {\n",
    "        \"llm_response\": [response],\n",
    "        \"messages\": [response],\n",
    "        \"current_step\": \"llm_complete\",\n",
    "        \"search_done\": False\n",
    "    }\n"
   ]
  },
  {
   "cell_type": "markdown",
   "id": "75cc6a03",
   "metadata": {},
   "source": [
    "#### Setup a Tavily node "
   ]
  },
  {
   "cell_type": "code",
   "execution_count": 445,
   "id": "5c823910",
   "metadata": {},
   "outputs": [],
   "source": [
    "tavily_search = TavilySearchResults(\n",
    "        max_results=3,\n",
    "        search_depth=\"advanced\",\n",
    "        include_answer=True,\n",
    "        include_raw_content=False\n",
    "    )"
   ]
  },
  {
   "cell_type": "code",
   "execution_count": 446,
   "id": "92481725",
   "metadata": {},
   "outputs": [],
   "source": [
    "def function_tavily_search(state: AgentState):\n",
    "    \"\"\"\n",
    "    This is a Tavily search function to generate reference data\n",
    "    We will set search_done so this function will be called only once\n",
    "\n",
    "    Args:\n",
    "        State Input fron Supervisor \n",
    "\n",
    "    Returns:\n",
    "        State with tavily output \n",
    "    \"\"\"\n",
    "    docs=\"\"\n",
    "    scores = []\n",
    "    prompt = PromptTemplate (\n",
    "        template = \"You are expert AI assistance give a task to summrize the give document {document}.Your output will have only summary. \",\n",
    "        input_variables = ['document']\n",
    "\n",
    "    )\n",
    "    summary_chain = prompt|model | StrOutputParser()\n",
    "    print(\"<--- Tavily Search call-->\")\n",
    "    if not state['search_done']:\n",
    "        question = state[\"messages\"][0]\n",
    "        search_results = tavily_search.invoke(question)\n",
    "        for result in search_results:\n",
    "            docs = docs + result['content']\n",
    "            scores.append(result['score'])\n",
    "        summary = summary_chain.invoke({'document': docs})\n",
    "        return {\n",
    "            \"tavily_response\": summary,\n",
    "            \"tavily_score\": sum(scores)/len(scores),\n",
    "            \"messages\": [summary],\n",
    "            \"current_step\": \"search_complete\",\n",
    "            \"search_done\": True\n",
    "        }\n",
    "    return state"
   ]
  },
  {
   "cell_type": "code",
   "execution_count": 447,
   "id": "503310cc",
   "metadata": {},
   "outputs": [],
   "source": [
    "\n",
    "def function_validator(state: AgentState):\n",
    "    \"\"\"\n",
    "    This is a validation function we will compare the LLM output with reference data and set a flag is it need a improvement \n",
    "    a router function will then decide either to end the chain or send the data to another tasks to improve the answer \n",
    "    we will make 4 attempts to improve the answer \n",
    "    We will set need_improvement flag to decide to loop or exit \n",
    "\n",
    "    Args:\n",
    "        State Input from Tavily including llm and tavily data \n",
    "\n",
    "    Returns:\n",
    "        State with validation \n",
    "    \"\"\"\n",
    "    print('<- Evaluate LLM  ->')\n",
    "    class valresponse(BaseModel):\n",
    "        validated_data: str = Field(description=\"the validation output\")\n",
    "        need_improvement: bool = Field(description=\"flag if need improvement\")\n",
    "    question = state['messages'][0]\n",
    "    llm_response = state['llm_response'][-1]\n",
    "    tavily_response = state['tavily_response']\n",
    "    intermediate_iteration  = state['current_iteration']\n",
    "    parser = JsonOutputParser(pydantic_object=valresponse)\n",
    "    validation_prompt = PromptTemplate(\n",
    "        template = \"\"\"You are a AI Assistance fact checking the answers, \n",
    "        verify whether the following answer for the given question is supported by the provided context. you will mark it as need_improvement only when it deviate from the context. \n",
    "        \n",
    "        Question: \n",
    "        {question}\n",
    "\n",
    "        Context: \n",
    "        {context}\n",
    "\n",
    "        Answer to verify: \n",
    "        {answer}\n",
    "         IMPORTANT: You must respond ONLY with valid JSON in this exact format:\n",
    "        {{\n",
    "            \"validated_data\": \"your detailed assessment here\",\n",
    "            \"need_improvement\": true or false\n",
    "        }}\n",
    "        \n",
    "        Do not include any text before or after the JSON.\n",
    "        \"\"\",\n",
    "        input_variables=['question', 'context', 'answer'],\n",
    "        partial_variables={\"format_instructions\": parser.get_format_instructions()}\n",
    "    )\n",
    "\n",
    "    validation_chain = validation_prompt | model | parser\n",
    "    result = validation_chain.invoke({'question': question, 'context': tavily_response,'answer': llm_response})\n",
    "    intermediate_iteration +=1\n",
    "    return {\n",
    "            \"need_improvement\": result['need_improvement'], \n",
    "            \"current_iteration\": intermediate_iteration,\n",
    "            \"validation_response\": result['validated_data'],\n",
    "            \"message\": result['validated_data'],\n",
    "            \"current_step\": \"validation_complete\",\n",
    "        }"
   ]
  },
  {
   "cell_type": "code",
   "execution_count": 448,
   "id": "54dcb3df",
   "metadata": {},
   "outputs": [],
   "source": [
    "def route_after_evalution(state: AgentState) -> Literal[\"END Call\",\"IMPROVE Call\"]:\n",
    "    \"\"\"\n",
    "    Router function to decide end the flow or return to improvment \n",
    "\n",
    "    Args:\n",
    "        State Input from Tavily including llm and tavily data \n",
    "\n",
    "    Returns:\n",
    "        State after improvment \n",
    "         \n",
    "    \"\"\"\n",
    "    print('<- Route after Evaluation  ->')\n",
    "    if state['need_improvement'] and state['current_iteration'] < state['max_iteration']:\n",
    "        return \"IMPROVE Call\"\n",
    "    return \"END Call\""
   ]
  },
  {
   "cell_type": "code",
   "execution_count": 449,
   "id": "03615599",
   "metadata": {},
   "outputs": [],
   "source": [
    "def improve_response(state: AgentState):\n",
    "    \"\"\"\n",
    "    improvement function , we will ask llm to improve the previous response\n",
    "\n",
    "    Args:\n",
    "        State Input from Tavily including llm and tavily data \n",
    "\n",
    "    Returns:\n",
    "        State after improvment \n",
    "         \n",
    "    \"\"\"\n",
    "    print('<- Improve Response requested   ->')\n",
    "    question = state['messages'][0]\n",
    "    llm_response = state['llm_response'][-1]\n",
    "    validation_response = state[\"validation_response\"]\n",
    "    \n",
    "    improvment_prompt = PromptTemplate(\n",
    "        template =\"\"\" Your are an AI expert, your job is to review the llm provided answer for a given question with reference to the context provided. Provide a corrected llm answer that will \n",
    "        validate the given context. Do not include any commentory and focus only on improving answer in given context \n",
    "        question:\n",
    "        {question}\n",
    "\n",
    "        llm_answer:\n",
    "        {answer}\n",
    "\n",
    "        context:\n",
    "        {context}\n",
    "        \"\"\",\n",
    "        input_variables=['question', 'answer', 'context']\n",
    "    )\n",
    "    improve_chain = improvment_prompt | model | StrOutputParser()\n",
    "    response = improve_chain.invoke({'question': question, 'answer': llm_response, 'context': validation_response })\n",
    "    return {\n",
    "            'messages': [response],\n",
    "            'llm_response': [response],\n",
    "            'improved_response': [response],\n",
    "            \"current_step\": \"improvement_complete\",\n",
    "    }"
   ]
  },
  {
   "cell_type": "code",
   "execution_count": 450,
   "id": "92c590c1",
   "metadata": {},
   "outputs": [],
   "source": [
    "def finalizer(state: AgentState ):\n",
    "    \"\"\"\n",
    "    output function ,just enough output to print\n",
    "\n",
    "    Args:\n",
    "        State Input validation function\n",
    "\n",
    "    Returns:\n",
    "        str: question\n",
    "        str: llm output\n",
    "        int: times improvement done\n",
    "         \n",
    "    \"\"\"\n",
    "    question= state['messages'][0]\n",
    "    llm_response = state['llm_response']\n",
    "    improved_count = state['need_improvement']\n",
    "    llm_output = \"\"\n",
    "    for llmres in llm_response:\n",
    "        llm_output += llmres\n",
    "    output=  f\"\"\"\n",
    "        \"question\":  {question} \\n\n",
    "        \"llm_output\": {llm_output} \\n,\n",
    "        \"Improvement_count\": {improved_count}\n",
    "    \"\"\"\n",
    "    return output"
   ]
  },
  {
   "cell_type": "markdown",
   "id": "e7360029",
   "metadata": {},
   "source": [
    "#### Define Langgraph workflow"
   ]
  },
  {
   "cell_type": "code",
   "execution_count": 451,
   "id": "474d3d29",
   "metadata": {},
   "outputs": [
    {
     "data": {
      "text/plain": [
       "<langgraph.graph.state.StateGraph at 0x10f8fe180>"
      ]
     },
     "execution_count": 451,
     "metadata": {},
     "output_type": "execute_result"
    }
   ],
   "source": [
    "workflow=StateGraph(AgentState)\n",
    "workflow.add_node(\"Supervisor\", function_supervisor)\n",
    "workflow.add_node(\"RAG\", function_rag)\n",
    "workflow.add_node(\"LLM\", function_llm)\n",
    "workflow.add_node(\"TAVILY_SEARCH\", function_tavily_search)\n",
    "workflow.add_node(\"EVALUATE\", function_validator)\n",
    "workflow.add_node(\"IMPROVE\", improve_response)\n"
   ]
  },
  {
   "cell_type": "code",
   "execution_count": 452,
   "id": "c2e9a3b8",
   "metadata": {},
   "outputs": [
    {
     "data": {
      "text/plain": [
       "<langgraph.graph.state.StateGraph at 0x10f8fe180>"
      ]
     },
     "execution_count": 452,
     "metadata": {},
     "output_type": "execute_result"
    }
   ],
   "source": [
    "workflow.add_edge(\"LLM\",\"TAVILY_SEARCH\")\n",
    "workflow.add_edge(\"TAVILY_SEARCH\",\"EVALUATE\")\n",
    "workflow.add_edge(\"IMPROVE\",\"EVALUATE\")"
   ]
  },
  {
   "cell_type": "code",
   "execution_count": 453,
   "id": "3017d7e6",
   "metadata": {},
   "outputs": [
    {
     "data": {
      "text/plain": [
       "<langgraph.graph.state.StateGraph at 0x10f8fe180>"
      ]
     },
     "execution_count": 453,
     "metadata": {},
     "output_type": "execute_result"
    }
   ],
   "source": [
    "workflow.add_conditional_edges(\"Supervisor\",\n",
    "                               router,\n",
    "                               {\n",
    "                                   \"RAG Call\": \"RAG\",  ##path to node name path_map\n",
    "                                   \"LLM Call\": \"LLM\"\n",
    "                               }\n",
    "                               )"
   ]
  },
  {
   "cell_type": "code",
   "execution_count": 454,
   "id": "dccb4497",
   "metadata": {},
   "outputs": [
    {
     "data": {
      "text/plain": [
       "<langgraph.graph.state.StateGraph at 0x10f8fe180>"
      ]
     },
     "execution_count": 454,
     "metadata": {},
     "output_type": "execute_result"
    }
   ],
   "source": [
    "workflow.add_conditional_edges(\"EVALUATE\",\n",
    "                               route_after_evalution,\n",
    "                               {\n",
    "                                   \"END Call\": END,  ##path to node name path_map\n",
    "                                   \"IMPROVE Call\": \"IMPROVE\"\n",
    "                               }\n",
    "                               )"
   ]
  },
  {
   "cell_type": "code",
   "execution_count": 455,
   "id": "8c7de3ca",
   "metadata": {},
   "outputs": [
    {
     "data": {
      "text/plain": [
       "<langgraph.graph.state.StateGraph at 0x10f8fe180>"
      ]
     },
     "execution_count": 455,
     "metadata": {},
     "output_type": "execute_result"
    }
   ],
   "source": [
    "workflow.set_entry_point(\"Supervisor\")  # you can use START instead of set_entry_point"
   ]
  },
  {
   "cell_type": "code",
   "execution_count": 456,
   "id": "d7991ddf",
   "metadata": {},
   "outputs": [],
   "source": [
    "app = workflow.compile()"
   ]
  },
  {
   "cell_type": "code",
   "execution_count": 457,
   "id": "4863670b",
   "metadata": {},
   "outputs": [
    {
     "data": {
      "image/png": "[encoded data removed]",
      "text/plain": [
       "<IPython.core.display.Image object>"
      ]
     },
     "metadata": {},
     "output_type": "display_data"
    }
   ],
   "source": [
    "png = app.get_graph().draw_mermaid_png()\n",
    "display(Image(png))"
   ]
  },
  {
   "cell_type": "markdown",
   "id": "eab415cb",
   "metadata": {},
   "source": [
    "#### Test the application\n",
    " Case 1: provide a statement that may need improvment.check improvment tasks get called "
   ]
  },
  {
   "cell_type": "code",
   "execution_count": 458,
   "id": "b6388719",
   "metadata": {},
   "outputs": [
    {
     "name": "stdout",
     "output_type": "stream",
     "text": [
      "<- Router ->\n",
      "<-- LLM CALL -->\n",
      "<--- Tavily Search call-->\n",
      "<- Evaluate LLM  ->\n",
      "<- Route after Evaluation  ->\n",
      "<- Improve Response requested   ->\n",
      "<- Evaluate LLM  ->\n",
      "<- Route after Evaluation  ->\n",
      "<- Improve Response requested   ->\n",
      "<- Evaluate LLM  ->\n",
      "<- Route after Evaluation  ->\n",
      "\n",
      "        \"question\":  sachin tendulkar was one of the greatest cricket player in the history, and there were no single controversies involved aound him  \n",
      "\n",
      "        \"llm_output\": Sachin Tendulkar is widely regarded as one of the greatest cricket players in history. While he maintained a largely clean image, there were a few instances that could be considered controversies, although they were relatively minor:\n",
      "\n",
      "*   **The \"Mike Denness Affair\" (2001):** During a Test match against South Africa, match referee Mike Denness accused Tendulkar of ball-tampering. Tendulkar was found guilty of polishing the ball without the umpire's permission and was handed a suspended ban. This decision was widely criticized by the Indian public and cricket community, who felt Tendulkar was being unfairly targeted.\n",
      "*   **Declaration Controversy (2004):** In a Test match against Pakistan, Rahul Dravid, the captain at the time, declared the Indian innings when Tendulkar was nearing a double century. This decision sparked debate, with some fans feeling that Tendulkar was denied an opportunity to reach the milestone.Sachin Tendulkar is widely regarded as one of the greatest cricket players in history.Sachin Tendulkar is widely regarded as one of the greatest cricket players in history. There is no mention of any controversies surrounding him. \n",
      ",\n",
      "        \"Improvement_count\": 2\n",
      "    \n"
     ]
    }
   ],
   "source": [
    "\n",
    "state = {\n",
    "'messages': ['sachin tendulkar was one of the greatest cricket player in the history, and there were no single controversies involved aound him ']\n",
    "}\n",
    "response= app.invoke(state)\n",
    "print(finalizer(response))"
   ]
  },
  {
   "cell_type": "markdown",
   "id": "20e11c60",
   "metadata": {},
   "source": [
    "#### Test the application\n",
    " Case 2: provide a statement that may not need any improvemenr.check improvment tasks does not get called "
   ]
  },
  {
   "cell_type": "code",
   "execution_count": 459,
   "id": "a5c0de89",
   "metadata": {},
   "outputs": [
    {
     "name": "stdout",
     "output_type": "stream",
     "text": [
      "<- Router ->\n",
      "<-- LLM CALL -->\n",
      "<--- Tavily Search call-->\n",
      "<- Evaluate LLM  ->\n",
      "<- Route after Evaluation  ->\n",
      "\n",
      "        \"question\":  sachin tendulkar was one of the greatest cricket player in the history  \n",
      "\n",
      "        \"llm_output\": That is a widely held and supported opinion. Sachin Tendulkar holds numerous records in cricket and is considered one of the greatest batsmen of all time. \n",
      ",\n",
      "        \"Improvement_count\": False\n",
      "    \n"
     ]
    }
   ],
   "source": [
    "state = {\n",
    "'messages': ['sachin tendulkar was one of the greatest cricket player in the history ']\n",
    "}\n",
    "response= app.invoke(state)\n",
    "print(finalizer(response))\n",
    "    "
   ]
  },
  {
   "cell_type": "code",
   "execution_count": 460,
   "id": "c4d8f6dd",
   "metadata": {},
   "outputs": [
    {
     "name": "stdout",
     "output_type": "stream",
     "text": [
      "\n",
      "        \"question\":  sachin tendulkar was one of the greatest cricket player in the history  \n",
      "\n",
      "        \"llm_output\": That is a widely held and supported opinion. Sachin Tendulkar holds numerous records in cricket and is considered one of the greatest batsmen of all time. \n",
      ",\n",
      "        \"Improvement_count\": False\n",
      "    \n"
     ]
    }
   ],
   "source": [
    "print(finalizer(response))"
   ]
  },
  {
   "cell_type": "markdown",
   "id": "5354b1ae",
   "metadata": {},
   "source": [
    "#### Test the application\n",
    " Case 3: provide a statement that may will be part of RAG and only RAG function gets calls "
   ]
  },
  {
   "cell_type": "code",
   "execution_count": 461,
   "id": "4b5a4938",
   "metadata": {},
   "outputs": [
    {
     "name": "stdout",
     "output_type": "stream",
     "text": [
      "<- Router ->\n",
      "<- RAG Call ->\n",
      "{'messages': ['what is the gdp of USA ', 'The GDP of the USA is estimated to be around $28 trillion USD as of 2024.\\nIt accounts for approximately 25% of the global economy.\\nThe USA ranks #1 in the world by nominal GDP.'], 'rag_response': ['The GDP of the USA is estimated to be around $28 trillion USD as of 2024.\\nIt accounts for approximately 25% of the global economy.\\nThe USA ranks #1 in the world by nominal GDP.'], 'current_step': 'Rag_complete', 'user_intent': ['USA'], 'max_iteration': 4, 'current_iteration': 0}\n"
     ]
    }
   ],
   "source": [
    "state = {\n",
    "'messages': ['what is the gdp of USA ']\n",
    "}\n",
    "response= app.invoke(state)\n",
    "print(response)"
   ]
  },
  {
   "cell_type": "markdown",
   "id": "1163179f",
   "metadata": {},
   "source": [
    "#### Conclusion\n",
    "\n",
    "The notebook successfully demonstrate the implementation of Langgraph with VectorDB, LLM chains, conditional edges and flow control.\n",
    "I could have better writing the code"
   ]
  }
 ],
 "metadata": {
  "kernelspec": {
   "display_name": "llm",
   "language": "python",
   "name": "python3"
  },
  "language_info": {
   "codemirror_mode": {
    "name": "ipython",
    "version": 3
   },
   "file_extension": ".py",
   "mimetype": "text/x-python",
   "name": "python",
   "nbconvert_exporter": "python",
   "pygments_lexer": "ipython3",
   "version": "3.12.10"
  }
 },
 "nbformat": 4,
 "nbformat_minor": 5
}
